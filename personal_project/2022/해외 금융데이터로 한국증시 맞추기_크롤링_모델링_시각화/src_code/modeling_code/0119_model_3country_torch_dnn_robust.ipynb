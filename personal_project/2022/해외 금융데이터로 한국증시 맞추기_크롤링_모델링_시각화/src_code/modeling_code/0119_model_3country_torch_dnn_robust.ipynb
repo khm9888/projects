{
 "cells": [
  {
   "cell_type": "code",
   "execution_count": 250,
   "metadata": {},
   "outputs": [],
   "source": [
    "import pandas as pd\n",
    "import matplotlib.pyplot as plt\n",
    "import numpy as np\n",
    "import torch\n",
    "import torch.nn as nn\n",
    "import torch.optim as optim\n",
    "import seaborn as sns\n",
    "from sklearn.metrics import r2_score\n",
    "from sklearn.model_selection import train_test_split as tts\n",
    "from sklearn.preprocessing import RobustScaler"
   ]
  },
  {
   "cell_type": "code",
   "execution_count": 251,
   "metadata": {},
   "outputs": [],
   "source": [
    "csv_path = f\"D:/programming/projects/personal_project/2022/해외 금융데이터로 한국증시 맞추기_크롤링_모델링_시각화/src_code/crawling_code/total.csv\"\n",
    "price_df=pd.read_csv(csv_path,index_col=0,header=0)"
   ]
  },
  {
   "cell_type": "code",
   "execution_count": 252,
   "metadata": {},
   "outputs": [],
   "source": [
    "# print(type(price_df))\n",
    "\n",
    "# print(\"price_df\")\n",
    "# print(price_df)\n",
    "\n",
    "# print(\"price_df.describe()\")\n",
    "# print(price_df.describe())\n",
    "\n",
    "# print(\"price_df.info()\")\n",
    "# price_df.info()\n",
    "\n",
    "# x_df=price_df.loc[price_df.index[1]:,[\"s&p 500\",\"nikkei 225\",\"shanghai\"]]#가장 최근값 없앰\n",
    "# y_df=price_df.loc[:price_df.index[-2],[\"kospi200\"]]#가장 옛날값 없앰"
   ]
  },
  {
   "cell_type": "code",
   "execution_count": 253,
   "metadata": {},
   "outputs": [
    {
     "name": "stdout",
     "output_type": "stream",
     "text": [
      "price_df\n",
      "            kospi200  s&p 500  shanghai  nikkei 225  us_rates  jp_rates  \\\n",
      "2021-05-10    435.63  4188.43   3427.99    29518.34    1113.5   1023.96   \n",
      "2021-05-11    428.77  4152.10   3441.85    28608.59    1119.0   1029.20   \n",
      "2021-05-12    421.86  4063.04   3462.75    28147.51    1125.5   1035.47   \n",
      "2021-05-13    416.07  4112.50   3429.54    27448.01    1133.5   1033.74   \n",
      "2021-05-14    420.17  4173.85   3490.38    28084.47    1129.5   1032.78   \n",
      "...              ...      ...       ...         ...       ...       ...   \n",
      "2022-01-10    387.52  4670.29   3593.52    28478.56    1198.0   1036.56   \n",
      "2022-01-11    388.97  4713.07   3567.44    28222.48    1194.0   1034.08   \n",
      "2022-01-12    394.66  4726.35   3597.43    28765.66    1192.5   1032.78   \n",
      "2022-01-13    393.00  4659.03   3555.26    28489.13    1185.5   1035.15   \n",
      "2022-01-14    387.45  4662.85   3521.26    28124.28    1190.0   1041.89   \n",
      "\n",
      "            ch_rates  \n",
      "2021-05-10    173.79  \n",
      "2021-05-11    174.24  \n",
      "2021-05-12    174.73  \n",
      "2021-05-13    175.55  \n",
      "2021-05-14    175.35  \n",
      "...              ...  \n",
      "2022-01-10    187.76  \n",
      "2022-01-11    187.11  \n",
      "2022-01-12    187.14  \n",
      "2022-01-13    186.29  \n",
      "2022-01-14    187.21  \n",
      "\n",
      "[180 rows x 7 columns]\n",
      "<class 'pandas.core.frame.DataFrame'>\n",
      "price_array\n",
      "[[ 435.63 4188.43 3427.99 ... 1113.5  1023.96  173.79]\n",
      " [ 428.77 4152.1  3441.85 ... 1119.   1029.2   174.24]\n",
      " [ 421.86 4063.04 3462.75 ... 1125.5  1035.47  174.73]\n",
      " ...\n",
      " [ 394.66 4726.35 3597.43 ... 1192.5  1032.78  187.14]\n",
      " [ 393.   4659.03 3555.26 ... 1185.5  1035.15  186.29]\n",
      " [ 387.45 4662.85 3521.26 ... 1190.   1041.89  187.21]]\n",
      "<class 'numpy.ndarray'>\n"
     ]
    }
   ],
   "source": [
    "price_array = price_df.values\n",
    "\n",
    "print(\"price_df\")\n",
    "print(price_df)\n",
    "print(type(price_df))\n",
    "print(\"price_array\")\n",
    "print(price_array)\n",
    "print(type(price_array))\n"
   ]
  },
  {
   "cell_type": "code",
   "execution_count": 254,
   "metadata": {},
   "outputs": [],
   "source": [
    "\n",
    "def split(datasets,timesteps):\n",
    "    x_values=list()\n",
    "    y_values=list()\n",
    "    for i in range(len(datasets)-timesteps):#10-6\n",
    "        x=datasets[i:i+timesteps,1:]#0\n",
    "        y=datasets[i+timesteps,0]\n",
    "        x_values.append(x)\n",
    "        y_values.append(y)\n",
    "    return np.array(x_values),np.array(y_values)\n"
   ]
  },
  {
   "cell_type": "code",
   "execution_count": 255,
   "metadata": {},
   "outputs": [
    {
     "name": "stdout",
     "output_type": "stream",
     "text": [
      "x\n",
      "<class 'numpy.ndarray'>\n",
      "x.shape\n",
      "(174, 6, 6)\n",
      "--------------------------------------------------\n",
      "x\n",
      "<class 'torch.Tensor'>\n",
      "x.shape\n",
      "torch.Size([174, 6, 6])\n",
      "--------------------------------------------------\n",
      "x\n",
      "<class 'torch.Tensor'>\n",
      "x.shape\n",
      "torch.Size([173, 36])\n",
      "--------------------------------------------------\n",
      "x_train\n",
      "<class 'torch.Tensor'>\n",
      "x_train.shape\n",
      "torch.Size([121, 36])\n"
     ]
    }
   ],
   "source": [
    "\n",
    "x,y=split(price_array,6)\n",
    "print(\"x\")\n",
    "print(type(x))\n",
    "# print(x)\n",
    "print(\"x.shape\")\n",
    "print(x.shape)\n",
    "\n",
    "x = torch.from_numpy(x)\n",
    "y = torch.from_numpy(y)\n",
    "print(\"-\"*50)\n",
    "print(\"x\")\n",
    "print(type(x))\n",
    "# print(x)\n",
    "print(\"x.shape\")\n",
    "print(x.shape)\n",
    "\n",
    "x,x_pre,y,y_predict = x[:-1],x[-1],y[:-1],y[-1]\n",
    "x = x.reshape(-1,x.shape[1]*x.shape[2])\n",
    "# print(\"y.shape\")\n",
    "# print(y.shape)\n",
    "\n",
    "print(\"-\"*50)\n",
    "print(\"x\")\n",
    "print(type(x))\n",
    "# print(x)\n",
    "print(\"x.shape\")\n",
    "print(x.shape)\n",
    "\n",
    "x_pre = x_pre.reshape(-1,x_pre.shape[0]*x_pre.shape[1])\n",
    "\n",
    "# print(x_pre)\n",
    "# print(x_pre.shape)\n",
    "\n",
    "x_train,x_test,y_train,y_test = tts(x,y,train_size=0.7)\n",
    "\n",
    "\n",
    "print(\"-\"*50)\n",
    "print(\"x_train\")\n",
    "print(type(x_train))\n",
    "# print(x_train)\n",
    "print(\"x_train.shape\")\n",
    "print(x_train.shape)\n"
   ]
  },
  {
   "cell_type": "code",
   "execution_count": 256,
   "metadata": {},
   "outputs": [
    {
     "name": "stdout",
     "output_type": "stream",
     "text": [
      "tensor([380.6900, 399.0700, 433.2600, 409.7000, 399.0700, 413.3600, 416.0600,\n",
      "        393.0000, 425.9500, 437.6600, 410.9900, 438.3800, 426.0000, 423.9100,\n",
      "        388.4700, 396.3100, 391.9300, 395.4000, 386.2200, 429.9800, 433.2200,\n",
      "        413.9500, 435.0200, 385.9700, 423.0000, 419.7900, 433.2900, 390.8500,\n",
      "        420.5700, 429.4900, 394.6600, 436.0000, 387.4200, 411.5000, 394.1900,\n",
      "        404.5800, 433.8700, 388.1400, 429.1500, 417.8000, 393.3400, 412.8500,\n",
      "        429.3500, 395.4800, 395.4100, 391.9600, 434.7300, 393.1900, 395.6600,\n",
      "        400.0900, 434.7400, 410.2400, 430.1500, 393.8900, 387.5200, 393.9500,\n",
      "        394.8200, 398.9600, 422.0800, 412.3600, 437.5400, 426.7900, 423.0900,\n",
      "        394.0700, 423.0900, 419.9200, 400.7800, 429.8900, 434.1300, 398.1500,\n",
      "        390.3600, 408.7000, 404.9600, 387.4400, 398.6100, 421.6800, 394.3600,\n",
      "        392.8500, 388.0100, 387.4200, 385.0700, 396.4400, 400.5300, 386.2400,\n",
      "        410.3800, 427.4700, 407.2800, 430.3200, 396.7200, 410.9900, 440.4000,\n",
      "        406.2000, 434.8200, 391.3700, 384.1000, 389.6400, 389.8600, 428.1600,\n",
      "        439.9800, 420.3700, 424.3500, 410.9900, 432.7800, 397.2700, 422.3800,\n",
      "        401.2100, 439.5000, 391.5400, 409.8400, 392.0200, 389.5900, 389.4400,\n",
      "        436.0500, 432.6300, 397.6800, 390.3900, 381.6300, 383.1300, 401.1300,\n",
      "        410.4600, 409.2200], dtype=torch.float64)\n"
     ]
    }
   ],
   "source": [
    "# print(x_train)\n",
    "print(y_train)"
   ]
  },
  {
   "cell_type": "code",
   "execution_count": 257,
   "metadata": {},
   "outputs": [
    {
     "name": "stdout",
     "output_type": "stream",
     "text": [
      "torch.Size([121])\n"
     ]
    }
   ],
   "source": [
    "scaler = RobustScaler()\n",
    "x_train=scaler.fit_transform(x_train)\n",
    "x_test=scaler.transform(x_test)\n",
    "x_pre=scaler.transform(x_pre)\n",
    "\n",
    "# x_train = torch.from_numpy(x_train)\n",
    "x_train = torch.FloatTensor(x_train)\n",
    "x_test = torch.FloatTensor(x_test)\n",
    "x_pre = torch.FloatTensor(x_pre)\n",
    "\n",
    "y_train = y_train.type(torch.FloatTensor)\n",
    "y_test = y_test.type(torch.FloatTensor)\n",
    "# x_test = torch.from_numpy(x_test)\n",
    "# x_pre = torch.from_numpy(x_pre)\n",
    "\n",
    "print(y_train.shape)"
   ]
  },
  {
   "cell_type": "code",
   "execution_count": 258,
   "metadata": {},
   "outputs": [],
   "source": [
    "#모델\n",
    "net = nn.Sequential(\n",
    "    nn.Linear(x_train.shape[1],50),#6\n",
    "    nn.ReLU(),\n",
    "    # nn.Linear(36,180),\n",
    "    # nn.ReLU(),\n",
    "    # nn.Linear(256,80),\n",
    "    # nn.ReLU(),\n",
    "    nn.Linear(50,10),\n",
    "    nn.ReLU(),\n",
    "    nn.Linear(10,1)\n",
    ")\n",
    "\n",
    "optimizer = optim.SGD(net.parameters(),lr=0.001)\n",
    "loss_fn = nn.MSELoss()\n"
   ]
  },
  {
   "cell_type": "code",
   "execution_count": 259,
   "metadata": {},
   "outputs": [
    {
     "name": "stdout",
     "output_type": "stream",
     "text": [
      "Epoch : 0 loss : 167287.4375\n",
      "Epoch : 10 loss : 161865.8125\n",
      "Epoch : 20 loss : 155524.9219\n",
      "Epoch : 30 loss : 149432.9219\n",
      "Epoch : 40 loss : 143580.0156\n",
      "Epoch : 50 loss : 137956.8438\n",
      "Epoch : 60 loss : 132554.3594\n",
      "Epoch : 70 loss : 127363.9219\n",
      "Epoch : 80 loss : 122377.2188\n",
      "Epoch : 90 loss : 117586.2266\n",
      "Epoch : 100 loss : 112983.2578\n",
      "Epoch : 110 loss : 108560.9609\n",
      "Epoch : 120 loss : 104312.2422\n",
      "Epoch : 130 loss : 100230.2891\n",
      "Epoch : 140 loss : 96308.5391\n",
      "Epoch : 150 loss : 92540.7188\n",
      "Epoch : 160 loss : 88920.7578\n",
      "Epoch : 170 loss : 85442.9062\n",
      "Epoch : 180 loss : 82101.5469\n",
      "Epoch : 190 loss : 78891.3281\n"
     ]
    }
   ],
   "source": [
    "epochs = 200\n",
    "losses = list()\n",
    "\n",
    "for epoch in range(epochs):\n",
    "    # net.train()\n",
    "    optimizer.zero_grad()\n",
    "    y_pred = net(x_train)\n",
    "    # print(y_pred.dtype)\n",
    "    # print(y.dtype)\n",
    "    loss = loss_fn(y_pred.view_as(y_train),y_train)\n",
    "    # print(y_train)  \n",
    "    # print(y_pred)  \n",
    "    loss.backward()\n",
    "    optimizer.step()  \n",
    "    losses.append(loss.item())\n",
    "    if epoch %10 ==0:\n",
    "        print(f\"Epoch : {epoch} loss : {loss:.4f}\")\n"
   ]
  },
  {
   "cell_type": "code",
   "execution_count": 260,
   "metadata": {},
   "outputs": [
    {
     "name": "stdout",
     "output_type": "stream",
     "text": [
      "<class 'torch.Tensor'>\n",
      "<class 'torch.Tensor'>\n"
     ]
    }
   ],
   "source": [
    "print(type(x_test))\n",
    "print(type(y_test))\n",
    "net.eval()\n",
    "y_p = net(x_test)\n",
    "y_p=y_p.cpu().detach().numpy()\n",
    "y_test=y_test.cpu().detach().numpy()\n"
   ]
  },
  {
   "cell_type": "code",
   "execution_count": 261,
   "metadata": {},
   "outputs": [
    {
     "name": "stdout",
     "output_type": "stream",
     "text": [
      "-218.9797488884834\n",
      "tensor([[-0.3751,  0.4323,  1.1086,  ...,  0.3214,  1.3426,  0.2384],\n",
      "        [-0.3046, -0.5029, -0.1276,  ..., -0.4643,  0.3955, -0.4731],\n",
      "        [ 0.0916, -0.3522, -0.8209,  ..., -0.3452,  0.5136, -0.3289],\n",
      "        ...,\n",
      "        [-0.3472,  0.2990, -0.2141,  ...,  0.3214, -0.0885,  0.3105],\n",
      "        [-0.0618,  0.9397,  0.6813,  ...,  0.2857,  0.8947,  0.1443],\n",
      "        [-0.2628, -1.3174, -0.7768,  ..., -0.6667, -0.0025, -0.6455]])\n",
      "[[134.15993]\n",
      " [134.15993]\n",
      " [134.15993]\n",
      " [134.15993]\n",
      " [134.15993]\n",
      " [134.15993]\n",
      " [134.15993]\n",
      " [134.15993]\n",
      " [134.15993]\n",
      " [134.15993]\n",
      " [134.15993]\n",
      " [134.15993]\n",
      " [134.15993]\n",
      " [134.15993]\n",
      " [134.15993]\n",
      " [134.15993]\n",
      " [134.15993]\n",
      " [134.15993]\n",
      " [134.15993]\n",
      " [134.15993]\n",
      " [134.15993]\n",
      " [134.15993]\n",
      " [134.15993]\n",
      " [134.15993]\n",
      " [134.15993]\n",
      " [134.15993]\n",
      " [134.15993]\n",
      " [134.15993]\n",
      " [134.15993]\n",
      " [134.15993]\n",
      " [134.15993]\n",
      " [134.15993]\n",
      " [134.15993]\n",
      " [134.15993]\n",
      " [134.15993]\n",
      " [134.15993]\n",
      " [134.15993]\n",
      " [134.15993]\n",
      " [134.15993]\n",
      " [134.15993]\n",
      " [134.15993]\n",
      " [134.15993]\n",
      " [134.15993]\n",
      " [134.15993]\n",
      " [134.15993]\n",
      " [134.15993]\n",
      " [134.15993]\n",
      " [134.15993]\n",
      " [134.15993]\n",
      " [134.15993]\n",
      " [134.15993]\n",
      " [134.15993]]\n",
      "[381.93 431.38 415.89 390.38 393.18 432.22 395.01 414.54 416.06 410.97\n",
      " 396.07 436.97 436.34 431.46 411.31 428.22 419.22 412.48 427.84 397.97\n",
      " 393.74 427.91 436.76 401.3  389.81 389.59 395.51 431.65 432.88 431.55\n",
      " 373.24 434.42 395.4  431.28 397.27 390.53 389.48 433.57 436.96 423.54\n",
      " 424.74 436.73 394.79 394.19 428.55 388.97 438.84 410.99 434.71 395.41\n",
      " 394.79 428.56]\n"
     ]
    },
    {
     "data": {
      "text/plain": [
       "[<matplotlib.lines.Line2D at 0x1b242056880>]"
      ]
     },
     "execution_count": 261,
     "metadata": {},
     "output_type": "execute_result"
    },
    {
     "data": {
      "image/png": "[encoded data removed]",
      "text/plain": [
       "<Figure size 432x288 with 1 Axes>"
      ]
     },
     "metadata": {
      "needs_background": "light"
     },
     "output_type": "display_data"
    }
   ],
   "source": [
    "r_2 = r2_score(y_test,y_p)\n",
    "print(r_2)\n",
    "import matplotlib.pyplot as plt\n",
    "print(x_test)\n",
    "print(y_p)\n",
    "print(y_test)\n",
    "plt.plot(losses)"
   ]
  }
 ],
 "metadata": {
  "interpreter": {
   "hash": "fa89a7276c9afab58557112a812c7c0bea499d7c9e3358576a2c24a4e9a80974"
  },
  "kernelspec": {
   "display_name": "Python 3.9.7 64-bit",
   "language": "python",
   "name": "python3"
  },
  "language_info": {
   "codemirror_mode": {
    "name": "ipython",
    "version": 3
   },
   "file_extension": ".py",
   "mimetype": "text/x-python",
   "name": "python",
   "nbconvert_exporter": "python",
   "pygments_lexer": "ipython3",
   "version": "3.9.7"
  },
  "orig_nbformat": 4
 },
 "nbformat": 4,
 "nbformat_minor": 2
}
