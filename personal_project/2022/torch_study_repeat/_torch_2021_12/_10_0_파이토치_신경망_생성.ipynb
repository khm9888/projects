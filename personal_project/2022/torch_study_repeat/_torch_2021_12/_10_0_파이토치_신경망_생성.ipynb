{
  "cells": [
    {
      "cell_type": "markdown",
      "metadata": {
        "id": "cNIhNfg44knT"
      },
      "source": [
        "# 신경망 생성\n",
        "- `torch.nn` 패키지 사용\n",
        "\n",
        "- `nn.Module`을 상속받고, 해당 모듈은 계층과 `output`을 반환하는 `forward`메소드를 포함\n",
        "\n",
        "- 파이토치에서 신경망 생성을 위한 기본 틀\n",
        "\n",
        "      1. class Net(nn.Module):\n",
        "\n",
        "           def __init__(self):\n",
        "               super(Net, self).__init__()\n",
        "\n",
        "      2. class MyModel(nn.Module):\n",
        "\n",
        "            def __init__(self):\n",
        "                super(MyModel, self).__init__()\n",
        "\n",
        "- `conv2d` 레이어를 쌓을 때, 필터의 갯수를 계산하고 `in_channels`에 넣어줘야함\n",
        "\n",
        "        "
      ]
    },
    {
      "cell_type": "markdown",
      "metadata": {
        "id": "vVP0IKPG5XCl"
      },
      "source": [
        "## 신경망 정의"
      ]
    },
    {
      "cell_type": "code",
      "execution_count": 2,
      "metadata": {
        "id": "EtObfSjK4gzu"
      },
      "outputs": [],
      "source": [
        "import torch\n",
        "import torch.nn as nn\n",
        "import torch.nn.functional as F"
      ]
    },
    {
      "cell_type": "code",
      "execution_count": 3,
      "metadata": {
        "id": "TrkSO0qj5aWu"
      },
      "outputs": [
        {
          "name": "stdout",
          "output_type": "stream",
          "text": [
            "Net(\n",
            "  (conv1): Conv2d(1, 6, kernel_size=(3, 3), stride=(1, 1))\n",
            "  (conv2): Conv2d(6, 16, kernel_size=(3, 3), stride=(1, 1))\n",
            "  (fc1): Linear(in_features=576, out_features=120, bias=True)\n",
            "  (fc2): Linear(in_features=120, out_features=84, bias=True)\n",
            "  (fc3): Linear(in_features=120, out_features=10, bias=True)\n",
            ")\n"
          ]
        }
      ],
      "source": [
        "class Net(nn.Module):\n",
        "    def __init__(self):\n",
        "        super(Net, self).__init__()\n",
        "        \n",
        "        #아키텍쳐 정의\n",
        "        \n",
        "        self.conv1 = nn.Conv2d(1,6,3)\n",
        "        self.conv2 = nn.Conv2d(6,16,3)\n",
        "        self.fc1 = nn.Linear(16*6*6,120)#output - 120\n",
        "        self.fc2 = nn.Linear(120,84)#output - 84\n",
        "        self.fc3 = nn.Linear(120,10)#output - 10\n",
        "        \n",
        "    def forward(self,x):\n",
        "        x = F.max_pool2d(F.relu(self.conv1(x)),(2,2))\n",
        "        x = F.max_pool2d(F.relu(self.conv2(x)),2)\n",
        "        x = x.view(-1, self.num_flat_features(x))\n",
        "        x = F.relu(self.fc1(x))\n",
        "        x = F.relu(self.fc2(x))\n",
        "        x = self.fc1(x)\n",
        "        \n",
        "        return x\n",
        "    \n",
        "    def num_flat_features(self, x):\n",
        "        print(x)\n",
        "        print(1)\n",
        "        size = x.size()[1:]\n",
        "        num_flatures =1\n",
        "        for s in size:\n",
        "            num_flatures *= s\n",
        "            \n",
        "        return num_flatures\n",
        "\n",
        "net = Net()\n",
        "print(net)"
      ]
    },
    {
      "cell_type": "markdown",
      "metadata": {
        "id": "D_pSqGTjN4Ey"
      },
      "source": [
        "# 선형회귀(Linear Regression) 모델 생성\n",
        "- 코드 출처 : https://yceffort.kr/2019/02/19/pytorch-02-linear-regression/"
      ]
    },
    {
      "cell_type": "markdown",
      "metadata": {
        "id": "yFV6Qz3wSqOY"
      },
      "source": [
        "## modules import"
      ]
    },
    {
      "cell_type": "code",
      "execution_count": 4,
      "metadata": {
        "id": "9Pp_ZXMgN48N"
      },
      "outputs": [],
      "source": [
        "import torch\n",
        "import torch.nn as nn\n",
        "import torch.optim as optim \n",
        "\n",
        "import numpy as np\n",
        "import matplotlib.pyplot as plt\n",
        "plt.style.use(\"seaborn\")\n"
      ]
    },
    {
      "cell_type": "markdown",
      "metadata": {
        "id": "JApiW41-TQbA"
      },
      "source": [
        "## 데이터 생성 및 회귀식 설정"
      ]
    },
    {
      "cell_type": "code",
      "execution_count": 5,
      "metadata": {
        "id": "DReJzgyCXGxq"
      },
      "outputs": [
        {
          "data": {
            "image/png": "[encoded data removed]",
            "text/plain": [
              "<Figure size 576x396 with 1 Axes>"
            ]
          },
          "metadata": {},
          "output_type": "display_data"
        }
      ],
      "source": [
        "x = torch.randn(100,1)*10\n",
        "\n",
        "y = x + 3 *torch.randn(100,1)\n",
        "# print(x.shape)\n",
        "# print(y.shape)\n",
        "plt.plot(x.numpy(),y.numpy(), \"o\")\n",
        "plt.ylabel(\"y\")\n",
        "plt.xlabel(\"x\")\n",
        "plt.grid()\n",
        "plt.show()"
      ]
    },
    {
      "cell_type": "markdown",
      "metadata": {
        "id": "GaEsvoUHSM9p"
      },
      "source": [
        "## 신경망 구성"
      ]
    },
    {
      "cell_type": "code",
      "execution_count": 6,
      "metadata": {
        "id": "v8K_nLImN43l"
      },
      "outputs": [],
      "source": [
        "# class LinearRegressionModel(nn.Module):\n",
        "#     def __init__(self):\n",
        "#         super(LinearRegressionModel,self).__init__()\n",
        "#         self.linear = nn.Linear(1,1)\n",
        "        \n",
        "#     def forward(self, x):\n",
        "#         pred = self.linear(x)\n",
        "#         return pred\n",
        "        \n",
        "    \n",
        "#############################\n",
        "\n",
        "class LinearRegressionModel(nn.Module):\n",
        "    def __init__(self):\n",
        "        super(LinearRegressionModel,self).__init__()\n",
        "        self.linear = nn.Linear(1,1)\n",
        "    \n",
        "    def forward(self, x):\n",
        "        pred =self.linear(x)\n",
        "        return pred"
      ]
    },
    {
      "cell_type": "markdown",
      "metadata": {
        "id": "gWHJoDoOSPKD"
      },
      "source": [
        "## 모델 생성 및 파라미터 확인"
      ]
    },
    {
      "cell_type": "code",
      "execution_count": 7,
      "metadata": {
        "id": "lFWWRmfkN405"
      },
      "outputs": [
        {
          "name": "stdout",
          "output_type": "stream",
          "text": [
            "LinearRegressionModel(\n",
            "  (linear): Linear(in_features=1, out_features=1, bias=True)\n",
            ")\n"
          ]
        }
      ],
      "source": [
        "torch.manual_seed(111)\n",
        "\n",
        "model = LinearRegressionModel()\n",
        "print(model)"
      ]
    },
    {
      "cell_type": "code",
      "execution_count": 8,
      "metadata": {
        "id": "-7vBaKDhQWGO"
      },
      "outputs": [
        {
          "name": "stdout",
          "output_type": "stream",
          "text": [
            "<generator object Module.parameters at 0x0000012C6F049BA0>\n",
            "[Parameter containing:\n",
            "tensor([[0.4311]], requires_grad=True), Parameter containing:\n",
            "tensor([0.8280], requires_grad=True)]\n"
          ]
        }
      ],
      "source": [
        "print(model.parameters())\n",
        "print(list(model.parameters()))"
      ]
    },
    {
      "cell_type": "code",
      "execution_count": 9,
      "metadata": {
        "id": "wpvOJTwXPaqg"
      },
      "outputs": [
        {
          "name": "stdout",
          "output_type": "stream",
          "text": [
            "[-12.10596991  13.76194048]\n"
          ]
        },
        {
          "data": {
            "image/png": "[encoded data removed]",
            "text/plain": [
              "<Figure size 576x396 with 1 Axes>"
            ]
          },
          "metadata": {},
          "output_type": "display_data"
        }
      ],
      "source": [
        "w,b = model.parameters()\n",
        "def get_params():\n",
        "    return w[0][0].item(),b[0].item()\n",
        "\n",
        "def plot_fit(title):\n",
        "    plt.title = title\n",
        "    w1, b1 = get_params()\n",
        "    x1 = np.array([-30,30])\n",
        "    \n",
        "    y1 = w1*x1 +b1\n",
        "    print(y1)\n",
        "    plt.plot(x1,y1,\"r\")# 선 만들기\n",
        "    # plt.plot(x1,y1,\"o\")\n",
        "    plt.scatter(x,y)\n",
        "    plt.show()\n",
        "\n",
        "plot_fit(\"Initial Model\")"
      ]
    },
    {
      "cell_type": "markdown",
      "metadata": {
        "id": "Z9H7zLFWSGhX"
      },
      "source": [
        "## 손실함수와 옵티마이저"
      ]
    },
    {
      "cell_type": "code",
      "execution_count": 10,
      "metadata": {
        "id": "iW4WHvMOPgtX"
      },
      "outputs": [],
      "source": [
        "criterion = nn.MSELoss()\n",
        "optimizer = optim.SGD(model.parameters(),lr=0.0001)\n"
      ]
    },
    {
      "cell_type": "markdown",
      "metadata": {
        "id": "ogojTAwDSRrW"
      },
      "source": [
        "## 모델 학습"
      ]
    },
    {
      "cell_type": "code",
      "execution_count": 11,
      "metadata": {
        "id": "UkDTmErfQdiU"
      },
      "outputs": [
        {
          "name": "stdout",
          "output_type": "stream",
          "text": [
            "Epoch : 0 loss : 43.2131\n",
            "Epoch : 10 loss : 31.1951\n",
            "Epoch : 20 loss : 23.7217\n",
            "Epoch : 30 loss : 19.0738\n",
            "Epoch : 40 loss : 16.1829\n",
            "Epoch : 50 loss : 14.3843\n",
            "Epoch : 60 loss : 13.2648\n",
            "Epoch : 70 loss : 12.5677\n",
            "Epoch : 80 loss : 12.1331\n",
            "Epoch : 90 loss : 11.8618\n"
          ]
        }
      ],
      "source": [
        "epochs =100\n",
        "losses = []\n",
        "for epoch in range(epochs):\n",
        "    optimizer.zero_grad()\n",
        "    y_pred = model(x)\n",
        "    loss = criterion(y_pred,y)\n",
        "    losses.append(loss)\n",
        "    loss.backward()\n",
        "    \n",
        "    optimizer.step()\n",
        "    if epoch %10 ==0:\n",
        "        print(f\"Epoch : {epoch} loss : {loss:.4f}\")"
      ]
    },
    {
      "cell_type": "markdown",
      "metadata": {
        "id": "1aYA45MxSeux"
      },
      "source": [
        "## 시각화"
      ]
    },
    {
      "cell_type": "code",
      "execution_count": 13,
      "metadata": {
        "id": "2tihOUtGQdl0"
      },
      "outputs": [
        {
          "name": "stdout",
          "output_type": "stream",
          "text": [
            "<class 'int'>\n",
            "<class 'list'>\n"
          ]
        },
        {
          "data": {
            "image/png": "[encoded data removed]",
            "text/plain": [
              "<Figure size 576x396 with 1 Axes>"
            ]
          },
          "metadata": {},
          "output_type": "display_data"
        }
      ],
      "source": [
        "# print(type(epochs))\n",
        "# print(type(losses))\n",
        "\n",
        "losses_1 = [i.item() for i in losses]\n",
        "\n",
        "plt.plot(range(epochs),losses_1)\n",
        "plt.ylabel(\"loss\")\n",
        "plt.xlabel(\"epoch\")\n",
        "plt.show()"
      ]
    },
    {
      "cell_type": "code",
      "execution_count": 14,
      "metadata": {
        "id": "8TofKjJDQdx7"
      },
      "outputs": [
        {
          "name": "stdout",
          "output_type": "stream",
          "text": [
            "[-26.2782951   27.90550274]\n"
          ]
        },
        {
          "data": {
            "image/png": "[encoded data removed]",
            "text/plain": [
              "<Figure size 576x396 with 1 Axes>"
            ]
          },
          "metadata": {},
          "output_type": "display_data"
        }
      ],
      "source": [
        "\n",
        "plot_fit(\"Trained Model\")"
      ]
    }
  ],
  "metadata": {
    "colab": {
      "collapsed_sections": [],
      "name": "_10 파이토치 신경망 생성.ipynb",
      "provenance": []
    },
    "kernelspec": {
      "display_name": "Python 3",
      "name": "python3"
    },
    "language_info": {
      "codemirror_mode": {
        "name": "ipython",
        "version": 3
      },
      "file_extension": ".py",
      "mimetype": "text/x-python",
      "name": "python",
      "nbconvert_exporter": "python",
      "pygments_lexer": "ipython3",
      "version": "3.7.6"
    }
  },
  "nbformat": 4,
  "nbformat_minor": 0
}
