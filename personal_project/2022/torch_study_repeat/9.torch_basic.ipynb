{
 "cells": [
  {
   "cell_type": "markdown",
   "metadata": {},
   "source": [
    "torch 복습을 위한 정리일 뿐. 이론을 보기 위해선 2021년도 12월 torch 정리본을 봐야함"
   ]
  },
  {
   "cell_type": "code",
   "execution_count": 3,
   "metadata": {},
   "outputs": [],
   "source": [
    "import torch\n"
   ]
  },
  {
   "cell_type": "code",
   "execution_count": 5,
   "metadata": {},
   "outputs": [],
   "source": [
    "\n",
    "x = torch.empty(4,2)\n"
   ]
  },
  {
   "cell_type": "code",
   "execution_count": 6,
   "metadata": {},
   "outputs": [
    {
     "name": "stdout",
     "output_type": "stream",
     "text": [
      "tensor([[0.0000e+00, 4.3009e-05],\n",
      "        [6.6283e-10, 8.3191e+20],\n",
      "        [8.1993e-10, 1.6618e+22],\n",
      "        [1.0257e-08, 2.6515e-09]])\n",
      "torch.Size([4, 2])\n"
     ]
    }
   ],
   "source": [
    "print(x)    \n",
    "print(x.size())"
   ]
  },
  {
   "cell_type": "code",
   "execution_count": 7,
   "metadata": {},
   "outputs": [
    {
     "name": "stdout",
     "output_type": "stream",
     "text": [
      "tensor([[ 0.7581,  0.6066,  0.4107,  1.1026, -0.1340],\n",
      "        [-0.9506, -0.9405,  1.3187, -0.6474,  1.5503],\n",
      "        [-0.3225,  0.1542, -1.1971, -1.0386, -2.1580],\n",
      "        [-1.1001, -1.4447, -0.9596, -0.5740, -0.0070]])\n",
      "tensor([ 0.7581,  0.6066,  0.4107,  1.1026, -0.1340, -0.9506, -0.9405,  1.3187,\n",
      "        -0.6474,  1.5503, -0.3225,  0.1542, -1.1971, -1.0386, -2.1580, -1.1001,\n",
      "        -1.4447, -0.9596, -0.5740, -0.0070])\n",
      "tensor([[ 0.7581,  0.6066,  0.4107,  1.1026],\n",
      "        [-0.1340, -0.9506, -0.9405,  1.3187],\n",
      "        [-0.6474,  1.5503, -0.3225,  0.1542],\n",
      "        [-1.1971, -1.0386, -2.1580, -1.1001],\n",
      "        [-1.4447, -0.9596, -0.5740, -0.0070]])\n"
     ]
    }
   ],
   "source": [
    "x = torch.randn(4,5)\n",
    "y = x.view(20)\n",
    "z = x.view(5,-1)\n",
    "\n",
    "print(x)\n",
    "print(y)\n",
    "print(z)"
   ]
  },
  {
   "cell_type": "code",
   "execution_count": 10,
   "metadata": {},
   "outputs": [
    {
     "name": "stdout",
     "output_type": "stream",
     "text": [
      "tensor([-0.7044])\n",
      "-0.7044336795806885\n",
      "torch.float32\n"
     ]
    }
   ],
   "source": [
    "x = torch.randn(1)\n",
    "print(x)\n",
    "print(x.item())\n",
    "print(x.dtype)"
   ]
  }
 ],
 "metadata": {
  "interpreter": {
   "hash": "fa89a7276c9afab58557112a812c7c0bea499d7c9e3358576a2c24a4e9a80974"
  },
  "kernelspec": {
   "display_name": "Python 3.9.7 64-bit",
   "language": "python",
   "name": "python3"
  },
  "language_info": {
   "codemirror_mode": {
    "name": "ipython",
    "version": 3
   },
   "file_extension": ".py",
   "mimetype": "text/x-python",
   "name": "python",
   "nbconvert_exporter": "python",
   "pygments_lexer": "ipython3",
   "version": "3.9.7"
  },
  "orig_nbformat": 4
 },
 "nbformat": 4,
 "nbformat_minor": 2
}
