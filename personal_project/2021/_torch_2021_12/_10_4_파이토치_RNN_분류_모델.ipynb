{
  "cells": [
    {
      "cell_type": "markdown",
      "metadata": {
        "id": "w7dUbyNVXcEf"
      },
      "source": [
        "# 파이토치 RNN 분류 모델\n",
        "- 코드 출처: https://tutorials.pytorch.kr/intermediate/char_rnn_classification_tutorial.html"
      ]
    },
    {
      "cell_type": "code",
      "execution_count": 17,
      "metadata": {
        "id": "dB-d43kLYEAi"
      },
      "outputs": [],
      "source": [
        "# !wget https://download.pytorch.org/tutorial/data.zip\n",
        "# !unzip data.zip\n",
        "\n"
      ]
    },
    {
      "cell_type": "markdown",
      "metadata": {
        "id": "Vukqoa09LSZw"
      },
      "source": [
        "이름: Ślusàrski"
      ]
    },
    {
      "cell_type": "code",
      "execution_count": 18,
      "metadata": {
        "id": "2d1pQ-JeYKzw"
      },
      "outputs": [
        {
          "name": "stdout",
          "output_type": "stream",
          "text": [
            "['G:\\\\내 드라이브\\\\공부\\\\code\\\\python_code\\\\_2021_project\\\\_torch_2021_12/data/names\\\\Arabic.txt', 'G:\\\\내 드라이브\\\\공부\\\\code\\\\python_code\\\\_2021_project\\\\_torch_2021_12/data/names\\\\Chinese.txt', 'G:\\\\내 드라이브\\\\공부\\\\code\\\\python_code\\\\_2021_project\\\\_torch_2021_12/data/names\\\\Czech.txt', 'G:\\\\내 드라이브\\\\공부\\\\code\\\\python_code\\\\_2021_project\\\\_torch_2021_12/data/names\\\\Dutch.txt', 'G:\\\\내 드라이브\\\\공부\\\\code\\\\python_code\\\\_2021_project\\\\_torch_2021_12/data/names\\\\English.txt', 'G:\\\\내 드라이브\\\\공부\\\\code\\\\python_code\\\\_2021_project\\\\_torch_2021_12/data/names\\\\French.txt', 'G:\\\\내 드라이브\\\\공부\\\\code\\\\python_code\\\\_2021_project\\\\_torch_2021_12/data/names\\\\German.txt', 'G:\\\\내 드라이브\\\\공부\\\\code\\\\python_code\\\\_2021_project\\\\_torch_2021_12/data/names\\\\Greek.txt', 'G:\\\\내 드라이브\\\\공부\\\\code\\\\python_code\\\\_2021_project\\\\_torch_2021_12/data/names\\\\Irish.txt', 'G:\\\\내 드라이브\\\\공부\\\\code\\\\python_code\\\\_2021_project\\\\_torch_2021_12/data/names\\\\Italian.txt', 'G:\\\\내 드라이브\\\\공부\\\\code\\\\python_code\\\\_2021_project\\\\_torch_2021_12/data/names\\\\Japanese.txt', 'G:\\\\내 드라이브\\\\공부\\\\code\\\\python_code\\\\_2021_project\\\\_torch_2021_12/data/names\\\\Korean.txt', 'G:\\\\내 드라이브\\\\공부\\\\code\\\\python_code\\\\_2021_project\\\\_torch_2021_12/data/names\\\\Polish.txt', 'G:\\\\내 드라이브\\\\공부\\\\code\\\\python_code\\\\_2021_project\\\\_torch_2021_12/data/names\\\\Portuguese.txt', 'G:\\\\내 드라이브\\\\공부\\\\code\\\\python_code\\\\_2021_project\\\\_torch_2021_12/data/names\\\\Russian.txt', 'G:\\\\내 드라이브\\\\공부\\\\code\\\\python_code\\\\_2021_project\\\\_torch_2021_12/data/names\\\\Scottish.txt', 'G:\\\\내 드라이브\\\\공부\\\\code\\\\python_code\\\\_2021_project\\\\_torch_2021_12/data/names\\\\Spanish.txt', 'G:\\\\내 드라이브\\\\공부\\\\code\\\\python_code\\\\_2021_project\\\\_torch_2021_12/data/names\\\\Vietnamese.txt']\n",
            "Slusarski\n",
            "18\n"
          ]
        }
      ],
      "source": [
        "from io import open\n",
        "import glob\n",
        "import os\n",
        "\n",
        "def findFiles(path):\n",
        "    return glob.glob(path)\n",
        "\n",
        "data_dir = \"G:\\내 드라이브\\공부\\code\\python_code\\_2021_project\\_torch_2021_12/data\"\n",
        "print(findFiles(f\"{data_dir}/names/*.txt\"))\n",
        "\n",
        "import unicodedata\n",
        "import string\n",
        "\n",
        "all_letters = string.ascii_letters+\".,;'\"\n",
        "n_letters = len(all_letters)\n",
        "\n",
        "def unucodeToAscii(s):\n",
        "    return \"\".join(\n",
        "        c for c in unicodedata.normalize(\"NFD\",s)\n",
        "        if unicodedata.category(c) != \"Mn\" and c in all_letters\n",
        "    )\n",
        "    \n",
        "print(unucodeToAscii(\"Ślusàrski\"))\n",
        "\n",
        "category_lines = {}\n",
        "all_categories = []\n",
        "\n",
        "def readLines(filename):\n",
        "    lines = open(filename, encoding=\"utf-8\").read().strip().split(\"\\n\")\n",
        "    return [unucodeToAscii(line) for line in lines]\n",
        "\n",
        "for filename in findFiles(f\"{data_dir}/names/*.txt\"):\n",
        "    category = os.path.splitext(os.path.basename(filename))[0]\n",
        "    all_categories.append(category)\n",
        "    lines = readLines(filename)\n",
        "    category_lines[category] = lines\n",
        "    \n",
        "n_categories = len(all_categories)\n",
        "print(n_categories)"
      ]
    },
    {
      "cell_type": "code",
      "execution_count": 19,
      "metadata": {
        "id": "o39feEPmYRdv"
      },
      "outputs": [
        {
          "name": "stdout",
          "output_type": "stream",
          "text": [
            "['Abandonato', 'Abatangelo', 'Abatantuono', 'Abate', 'Abategiovanni']\n",
            "['Ang', 'AuYong', 'Bai', 'Ban', 'Bao']\n",
            "['Ahn', 'Baik', 'Bang', 'Byon', 'Cha']\n",
            "['Abel', 'Abraham', 'Adam', 'Albert', 'Allard']\n"
          ]
        }
      ],
      "source": [
        "print(category_lines[\"Italian\"][:5])\n",
        "print(category_lines[\"Chinese\"][:5])\n",
        "print(category_lines[\"Korean\"][:5])\n",
        "print(category_lines[\"French\"][:5])"
      ]
    },
    {
      "cell_type": "code",
      "execution_count": 23,
      "metadata": {
        "id": "Mkjk05rwYUyx"
      },
      "outputs": [
        {
          "name": "stdout",
          "output_type": "stream",
          "text": [
            "tensor([[[0., 0., 0., 0., 0., 0., 0., 0., 0., 0., 0., 0., 0., 0., 0., 0., 0.,\n",
            "          0., 0., 0., 0., 0., 0., 0., 0., 0., 0., 0., 0., 0., 0., 0., 0., 0.,\n",
            "          0., 1., 0., 0., 0., 0., 0., 0., 0., 0., 0., 0., 0., 0., 0., 0., 0.,\n",
            "          0., 0., 0., 0., 0.]]])\n",
            "torch.Size([1, 56])\n"
          ]
        }
      ],
      "source": [
        "import torch\n",
        "\n",
        "def letterToIndex(letter):\n",
        "    return all_letters.find(letter)\n",
        "\n",
        "def letterToTensor(letter):\n",
        "    tensor = torch.zeros(1,n_letters)\n",
        "    tensor[0][letterToIndex(letter)]=1\n",
        "    return tensor\n",
        "\n",
        "def lineToTensor(line):\n",
        "    tensor = torch.zeros(len(line),1,n_letters)\n",
        "    for li, letter in enumerate(line):\n",
        "        tensor[li][0][letterToIndex(letter)]=1\n",
        "        return tensor\n",
        "    \n",
        "print(lineToTensor(\"J\"))\n",
        "print(letterToTensor(\"Jones\").size())\n",
        "\n",
        "#익일 이어서 진행"
      ]
    },
    {
      "cell_type": "markdown",
      "metadata": {
        "id": "IPVvWrMHYelv"
      },
      "source": [
        "## 신경망 생성\n",
        "\n",
        "- 모델 생성 방법 참고 : https://pytorch.org/tutorials/beginner/former_torchies/nnft_tutorial.html"
      ]
    },
    {
      "cell_type": "code",
      "execution_count": null,
      "metadata": {
        "id": "t6gKYokQYYZW"
      },
      "outputs": [],
      "source": []
    },
    {
      "cell_type": "code",
      "execution_count": null,
      "metadata": {
        "id": "wuFpzGrHYgBY"
      },
      "outputs": [],
      "source": []
    },
    {
      "cell_type": "code",
      "execution_count": null,
      "metadata": {
        "id": "wpGGzL2NYku2"
      },
      "outputs": [],
      "source": []
    },
    {
      "cell_type": "markdown",
      "metadata": {
        "id": "q3qAoF6BYrPW"
      },
      "source": [
        "## 모델 학습\n",
        "- 준비"
      ]
    },
    {
      "cell_type": "code",
      "execution_count": null,
      "metadata": {
        "id": "WNTCbv4aYoP2"
      },
      "outputs": [],
      "source": []
    },
    {
      "cell_type": "code",
      "execution_count": null,
      "metadata": {
        "id": "aanvL45oYs00"
      },
      "outputs": [],
      "source": []
    },
    {
      "cell_type": "markdown",
      "metadata": {
        "id": "qVA-IZP3Yzz2"
      },
      "source": [
        "## 손실함수"
      ]
    },
    {
      "cell_type": "code",
      "execution_count": null,
      "metadata": {
        "id": "Y98Uy0YPYwjY"
      },
      "outputs": [],
      "source": []
    },
    {
      "cell_type": "markdown",
      "metadata": {
        "id": "oDyQIe8lY_Vl"
      },
      "source": [
        "## 모델 학습"
      ]
    },
    {
      "cell_type": "code",
      "execution_count": null,
      "metadata": {
        "id": "4vIcTqP8Y9lo"
      },
      "outputs": [],
      "source": []
    },
    {
      "cell_type": "code",
      "execution_count": null,
      "metadata": {
        "id": "DRDcSbrsZAK9"
      },
      "outputs": [],
      "source": []
    },
    {
      "cell_type": "code",
      "execution_count": null,
      "metadata": {
        "id": "cSwAjR6QZDRf"
      },
      "outputs": [],
      "source": []
    },
    {
      "cell_type": "markdown",
      "metadata": {
        "id": "J0_2HyE3ZPZk"
      },
      "source": [
        "## 모델 테스트"
      ]
    },
    {
      "cell_type": "code",
      "execution_count": null,
      "metadata": {
        "id": "MBVWJNmoZO8a"
      },
      "outputs": [],
      "source": []
    },
    {
      "cell_type": "markdown",
      "metadata": {
        "id": "AfjRYlioZV3o"
      },
      "source": [
        "## 사용자 입력으로부터의 실행"
      ]
    },
    {
      "cell_type": "code",
      "execution_count": null,
      "metadata": {
        "id": "uteG1Je5ZQWg"
      },
      "outputs": [],
      "source": []
    }
  ],
  "metadata": {
    "colab": {
      "collapsed_sections": [],
      "name": "_10.4 파이토치 RNN 분류 모델.ipynb",
      "provenance": []
    },
    "kernelspec": {
      "display_name": "Python 3",
      "name": "python3"
    },
    "language_info": {
      "codemirror_mode": {
        "name": "ipython",
        "version": 3
      },
      "file_extension": ".py",
      "mimetype": "text/x-python",
      "name": "python",
      "nbconvert_exporter": "python",
      "pygments_lexer": "ipython3",
      "version": "3.7.6"
    }
  },
  "nbformat": 4,
  "nbformat_minor": 0
}
